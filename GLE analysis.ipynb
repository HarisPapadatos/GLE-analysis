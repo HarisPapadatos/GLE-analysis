{
 "cells": [
  {
   "cell_type": "code",
   "execution_count": 1,
   "id": "73b96762-8e97-418a-81ab-3dd5b457eb4c",
   "metadata": {},
   "outputs": [],
   "source": [
    "# imports\n",
    "import numpy as np\n",
    "import matplotlib.pyplot as plt\n",
    "import pandas as pd\n",
    "from datetime import datetime"
   ]
  },
  {
   "cell_type": "code",
   "execution_count": null,
   "id": "076ed60a-df8d-4238-bc07-f30ce0848ef0",
   "metadata": {},
   "outputs": [],
   "source": [
    "# loading data\n",
    "data_all = pd.read_csv('../../data/personal/GLE.csv',header=0, delimiter=',')\n",
    "data_all[\"DATE\"]=pd.to_datetime(data_all[\"DATE\"])\n",
    "dates=data_all[\"DATE\"]\n",
    "athn=data_all[\"ATHN\"].values\n",
    "invk = data_all[\"INVK\"].values\n",
    "mwsn = data_all[\"MWSN\"].values\n",
    "tera = data_all[\"TERA\"].values"
   ]
  },
  {
   "cell_type": "code",
   "execution_count": null,
   "id": "5c1ff86f-5ee1-4b61-b1cf-dcfd1532022b",
   "metadata": {},
   "outputs": [],
   "source": [
    "# plotting - filtered data\n",
    "\n",
    "# ATHN\n",
    "plt.plot(dates,athn,linewidth=0.5)\n",
    "plt.xticks(rotation=80)\n",
    "plt.title(\"GLE 72 - από ATHN - 10/9/2017\")\n",
    "plt.ylabel(\"Counts per Second\")\n",
    "plt.xlabel(\"UTC\")\n",
    "plt.grid(True)\n",
    "plt.show()\n",
    "\n",
    "# INVK\n",
    "plt.plot(dates,invk,linewidth=0.5)\n",
    "plt.xticks(rotation=80)\n",
    "plt.title(\"GLE 72 - από INVK - 10/9/2017\")\n",
    "plt.ylabel(\"Counts per Second\")\n",
    "plt.xlabel(\"UTC\")\n",
    "plt.grid(True)\n",
    "plt.show()\n",
    "\n",
    "# MWSN\n",
    "plt.plot(dates,mwsn,linewidth=0.5)\n",
    "plt.xticks(rotation=80)\n",
    "plt.title(\"GLE 72 - από MWSN - 10/9/2017\")\n",
    "plt.ylabel(\"Counts per Second\")\n",
    "plt.xlabel(\"UTC\")\n",
    "plt.grid(True)\n",
    "plt.show()\n",
    "\n",
    "# TERA\n",
    "plt.plot(dates,tera,linewidth=0.5)\n",
    "plt.xticks(rotation=80)\n",
    "plt.title(\"GLE 72 - από TERA - 10/9/2017\")\n",
    "plt.ylabel(\"Counts per Second\")\n",
    "plt.xlabel(\"UTC\")\n",
    "plt.grid(True)\n",
    "plt.show()"
   ]
  },
  {
   "cell_type": "code",
   "execution_count": null,
   "id": "9cbcb2d5-284c-4cbf-8a42-289eef761fb7",
   "metadata": {},
   "outputs": [],
   "source": [
    "# THE PLOTS ARE DISPLAYED HERE"
   ]
  },
  {
   "cell_type": "code",
   "execution_count": null,
   "id": "a6a0b659-1f22-4422-b854-04060ffa49a9",
   "metadata": {},
   "outputs": [],
   "source": [
    "#selection for mean value\n",
    "selection_start=\"2017-09-10 14:00\"\n",
    "selection_end=\"2017-09-10 16:00\"\n",
    "data_selected=data_all.loc[(data_all['DATE']>selection_start) & (data_all['DATE']<selection_end)]"
   ]
  },
  {
   "cell_type": "code",
   "execution_count": null,
   "id": "4962c91e-8263-4c84-a0f4-a9b6d21b4ac5",
   "metadata": {},
   "outputs": [],
   "source": [
    "# normalization\n",
    "\n",
    "# time interval selection\n",
    "athn_selected=data_selected[\"ATHN\"].values\n",
    "invk_selected=data_selected['INVK'].values\n",
    "mwsn_selected=data_selected['MWSN'].values\n",
    "tera_selected=data_selected['TERA'].values\n",
    "\n",
    "# finding mean value\n",
    "mean_val_athn = np.mean(athn_selected)\n",
    "mean_val_invk = np.mean(invk_selected)\n",
    "mean_val_mwsn = np.mean(mwsn_selected)\n",
    "mean_val_tera = np.mean(tera_selected)\n",
    "\n",
    "# normalized data\n",
    "results_athn=(athn - mean_val_athn)/mean_val_athn\n",
    "results_invk=(invk - mean_val_invk)/mean_val_invk\n",
    "results_mwsn=(mwsn - mean_val_mwsn)/mean_val_mwsn\n",
    "results_tera=(tera - mean_val_tera)/mean_val_tera"
   ]
  },
  {
   "cell_type": "code",
   "execution_count": null,
   "id": "1a319498-bbfe-4381-863f-2fb4a63d2de0",
   "metadata": {},
   "outputs": [],
   "source": [
    "plt.title(\"Κανονικοποιημένα Δεδομένα όλων των Σταθμών \\n από 09/10/2017 14:00 - 23:00\")\n",
    "plt.plot(dates,results_athn,label='athn',linewidth=0.5)\n",
    "plt.plot(dates,results_invk,label='invk',linewidth=0.5)\n",
    "plt.plot(dates,results_mwsn,label='mwsn',linewidth=0.5)\n",
    "plt.plot(dates,results_tera,label='tera',linewidth=0.5)\n",
    "plt.xlabel(\"UTC\")\n",
    "plt.ylabel(\"(Ii-Im)/Im\")\n",
    "plt.xticks(rotation=80)\n",
    "plt.grid()\n",
    "plt.legend()\n",
    "plt.show()"
   ]
  },
  {
   "cell_type": "code",
   "execution_count": null,
   "id": "1a2e6149-041b-4dc9-9df3-5a99c8a6c199",
   "metadata": {},
   "outputs": [],
   "source": [
    "# THE PLOT IS DISPLAYED HERE"
   ]
  },
  {
   "cell_type": "code",
   "execution_count": null,
   "id": "dcf2d152-45b9-4f1f-b838-22a0900ef02a",
   "metadata": {},
   "outputs": [],
   "source": [
    "# plotting - nomalized data\n",
    "\n",
    "# ATHN\n",
    "plt.title(\"Κανονικοποιημένα Δεδομένα ATHN \\n από 09/10/2017 14:00 - 23:00\")\n",
    "plt.plot(dates,results_athn,color='r',linewidth=0.5)\n",
    "plt.xlabel(\"UTC\")\n",
    "plt.ylabel(\"(Ii-Im)/Im\")\n",
    "plt.xticks(rotation=80)\n",
    "plt.grid()\n",
    "plt.show()\n",
    "\n",
    "# INVK\n",
    "plt.title(\"Κανονικοποιημένα Δεδομένα INVK \\n από 09/10/2017 14:00 - 23:00\")\n",
    "plt.plot(dates,results_invk,color='r',linewidth=0.5)\n",
    "plt.xlabel(\"UTC\")\n",
    "plt.ylabel(\"(Ii-Im)/Im\")\n",
    "plt.xticks(rotation=80)\n",
    "plt.grid()\n",
    "plt.show()\n",
    "\n",
    "# MWSN\n",
    "plt.title(\"Κανονικοποιημένα Δεδομένα MWSN \\n από 09/10/2017 14:00 - 23:00\")\n",
    "plt.plot(dates,results_mwsn,color='r',linewidth=0.5)\n",
    "plt.xlabel(\"UTC\")\n",
    "plt.ylabel(\"(Ii-Im)/Im\")\n",
    "plt.xticks(rotation=80)\n",
    "plt.grid()\n",
    "plt.show()\n",
    "\n",
    "# TERA\n",
    "plt.title(\"Κανονικοποιημένα Δεδομένα TERA \\n από 09/10/2017 14:00 - 23:00\")\n",
    "plt.plot(dates,results_tera,color='r',linewidth=0.5)\n",
    "plt.xlabel(\"UTC\")\n",
    "plt.ylabel(\"(Ii-Im)/Im\")\n",
    "plt.xticks(rotation=80)\n",
    "plt.grid()\n",
    "plt.show()"
   ]
  },
  {
   "cell_type": "code",
   "execution_count": null,
   "id": "2ed46bad-a7bc-4a10-9072-c7b0fbcd69ef",
   "metadata": {},
   "outputs": [],
   "source": [
    "# THE PLOTS ARE DISPLAYED HERE"
   ]
  }
 ],
 "metadata": {
  "kernelspec": {
   "display_name": "Python 3 (ipykernel)",
   "language": "python",
   "name": "python3"
  },
  "language_info": {
   "codemirror_mode": {
    "name": "ipython",
    "version": 3
   },
   "file_extension": ".py",
   "mimetype": "text/x-python",
   "name": "python",
   "nbconvert_exporter": "python",
   "pygments_lexer": "ipython3",
   "version": "3.11.5"
  }
 },
 "nbformat": 4,
 "nbformat_minor": 5
}
